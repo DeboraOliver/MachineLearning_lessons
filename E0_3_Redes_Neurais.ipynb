{
  "nbformat": 4,
  "nbformat_minor": 0,
  "metadata": {
    "colab": {
      "provenance": [],
      "collapsed_sections": [],
      "authorship_tag": "ABX9TyPD7E3kPJwWXfRh9CSnTW4+",
      "include_colab_link": true
    },
    "kernelspec": {
      "name": "python3",
      "display_name": "Python 3"
    },
    "language_info": {
      "name": "python"
    }
  },
  "cells": [
    {
      "cell_type": "markdown",
      "metadata": {
        "id": "view-in-github",
        "colab_type": "text"
      },
      "source": [
        "<a href=\"https://colab.research.google.com/github/DeboraOliver/MachineLearning_lessons/blob/main/E0_3_Redes_Neurais.ipynb\" target=\"_parent\"><img src=\"https://colab.research.google.com/assets/colab-badge.svg\" alt=\"Open In Colab\"/></a>"
      ]
    },
    {
      "cell_type": "markdown",
      "source": [
        "#Estudo Orientado 3\n",
        "Você deve criar um modelo de predição usando Redes Neurais do tipo perceptron. Além disso, deve alterar os parâmetros de treino do modelo e analisar o comportamento do modelo gerado, avaliando o aumento ou redução da acurácia.\n",
        "\n",
        "Primeiro, você deve alterar a quantidade de iterações de treino da rede neural e perceber se a acurácia do modelo gerado aumentou ou diminuiu.\n",
        "\n",
        "Após isso, você deve alterar a quantidade de camadas escondidas e de neurônios em cada camada, novamente, avaliando se a acurácia do modelo aumentou ou diminuiu.\n",
        "\n",
        "Para criar o modelo, use o código a seguir e então faça as modificações propostas, descritas em detalhe a seguir.\n",
        "\n",
        " \n",
        "\n",
        "Altere a quantidade de iterações para 100, 500, 1000, 2000 e 5000.<br>\n",
        "\n",
        " Avalie os resultados de acurácia para cada quantidade de iterações.\n",
        "Para os testes a seguir, mantenha a quantidade de iterações em 1000 e faça as alterações propostas:<br>\n",
        "\n",
        "Altere a quantidade de camadas escondidas para 1 com 5 neurônios.<br>\n",
        "Altere a quantidade de camadas escondidas para 3 com 5 neurônios. <br>\n",
        "Altere a quantidade de camadas escondidas para 1 com 10 neurônios.<br>\n",
        "Altere a quantidade de camadas escondidas para 3 com 10 neurônios.<br>\n",
        "Altere a quantidade de camadas escondidas para 5 com 50 neurônios."
      ],
      "metadata": {
        "id": "kFQtxa01LdUx"
      }
    },
    {
      "cell_type": "code",
      "source": [
        "import pandas as pd\n",
        "\n",
        "from sklearn import preprocessing\n",
        "from sklearn.model_selection import train_test_split\n",
        "from sklearn.metrics import classification_report, confusion_matrix, accuracy_score\n",
        "from sklearn.neural_network import MLPClassifier\n",
        "\n",
        "import warnings\n",
        "warnings.filterwarnings(\"ignore\")"
      ],
      "metadata": {
        "id": "9vEMSYf0LuIH"
      },
      "execution_count": 4,
      "outputs": []
    },
    {
      "cell_type": "code",
      "source": [
        "# fAZ O DOWNLOAD DOS DADOS E SALVA NO DATAFRAME\n",
        "url = \"https://archive.ics.uci.edu/ml/machine-learning-databases/iris/iris.data\"\n",
        "names=['sepal-length','sepal-width','petal-length', 'petal-width','Classe']\n",
        "irisdata = pd.read_csv(url, names = names)\n",
        "\n",
        "def redes_neurais(irisdata, camadas_escondidas, max_iteracoes):\n",
        "\n",
        "  X_caracteristicas = irisdata.iloc[:,0:4]\n",
        "  Y_classes = irisdata.iloc[:,4]\n",
        "\n",
        "  le = preprocessing.LabelEncoder()\n",
        "  y = le.fit_transform(Y_classes)\n",
        "\n",
        "  X_train, X_test, y_train, y_test = train_test_split(X_caracteristicas, y, test_size = 0.3, random_state= 0)\n",
        "\n",
        "  #cria o modelo de  classificacao usando a rede neural com 3 camadas escondidas e 10 perceptrons\n",
        "  mlp = MLPClassifier(hidden_layer_sizes=camadas_escondidas, max_iter = max_iteracoes)\n",
        "\n",
        "  mlp.fit(X_train, y_train)\n",
        "\n",
        "  predictions = mlp.predict(X_test)\n",
        "\n",
        "  acuracia = accuracy_score(y_test, predictions)\n",
        "\n",
        "  return print(\"Acurácia: \",acuracia)"
      ],
      "metadata": {
        "id": "v7MqggnrMiYP"
      },
      "execution_count": 5,
      "outputs": []
    },
    {
      "cell_type": "markdown",
      "source": [
        "# Alterando a quantidade de iterações para 100, 500, 1000, 2000 e 5000."
      ],
      "metadata": {
        "id": "C0uazppBR9kl"
      }
    },
    {
      "cell_type": "code",
      "source": [
        "redes_neurais(irisdata, camadas_escondidas = (10,10,10), max_iteracoes=100)"
      ],
      "metadata": {
        "id": "LLwuie8wSGVA",
        "colab": {
          "base_uri": "https://localhost:8080/"
        },
        "outputId": "c7dbbb6e-085d-4ec3-dfc8-7bf336ce2be2"
      },
      "execution_count": 6,
      "outputs": [
        {
          "output_type": "stream",
          "name": "stdout",
          "text": [
            "Acurácia:  0.6888888888888889\n"
          ]
        }
      ]
    },
    {
      "cell_type": "code",
      "source": [
        "redes_neurais(irisdata, camadas_escondidas = (10,10,10), max_iteracoes=500)"
      ],
      "metadata": {
        "colab": {
          "base_uri": "https://localhost:8080/"
        },
        "id": "1raMkwXSkO2n",
        "outputId": "a3a9d623-bcb5-43ff-aa16-d7ec2a6e828d"
      },
      "execution_count": 7,
      "outputs": [
        {
          "output_type": "stream",
          "name": "stdout",
          "text": [
            "Acurácia:  0.9777777777777777\n"
          ]
        }
      ]
    },
    {
      "cell_type": "code",
      "source": [
        "redes_neurais(irisdata, camadas_escondidas = (10,10,10), max_iteracoes=1000)"
      ],
      "metadata": {
        "colab": {
          "base_uri": "https://localhost:8080/"
        },
        "id": "K94gZijdkPB6",
        "outputId": "8074ebdd-a48b-4fd6-a4cd-027248b4386b"
      },
      "execution_count": 8,
      "outputs": [
        {
          "output_type": "stream",
          "name": "stdout",
          "text": [
            "Acurácia:  0.9777777777777777\n"
          ]
        }
      ]
    },
    {
      "cell_type": "code",
      "source": [
        "redes_neurais(irisdata, camadas_escondidas = (10,10,10), max_iteracoes=2000)"
      ],
      "metadata": {
        "colab": {
          "base_uri": "https://localhost:8080/"
        },
        "id": "rL99ZDYkkQSf",
        "outputId": "7e0ef96d-6938-46bb-a396-42dbf2c446bb"
      },
      "execution_count": 9,
      "outputs": [
        {
          "output_type": "stream",
          "name": "stdout",
          "text": [
            "Acurácia:  0.9777777777777777\n"
          ]
        }
      ]
    },
    {
      "cell_type": "code",
      "source": [
        "redes_neurais(irisdata, camadas_escondidas = (10,10,10), max_iteracoes=5000)"
      ],
      "metadata": {
        "colab": {
          "base_uri": "https://localhost:8080/"
        },
        "id": "4PPIpczxkQdu",
        "outputId": "c74aeeef-db15-4329-c213-8ba950a52252"
      },
      "execution_count": 10,
      "outputs": [
        {
          "output_type": "stream",
          "name": "stdout",
          "text": [
            "Acurácia:  0.9777777777777777\n"
          ]
        }
      ]
    },
    {
      "cell_type": "markdown",
      "source": [
        "# Altere a quantidade de camadas escondidas para 1 com 5 neurônios.\n"
      ],
      "metadata": {
        "id": "dTm16WEkTJF9"
      }
    },
    {
      "cell_type": "code",
      "source": [
        "redes_neurais(irisdata, camadas_escondidas = (5), max_iteracoes=1000)"
      ],
      "metadata": {
        "id": "Xtd1t_pfTJRV",
        "colab": {
          "base_uri": "https://localhost:8080/"
        },
        "outputId": "f66d2f44-064d-406e-decc-f229421edd9b"
      },
      "execution_count": 11,
      "outputs": [
        {
          "output_type": "stream",
          "name": "stdout",
          "text": [
            "Acurácia:  0.6\n"
          ]
        }
      ]
    },
    {
      "cell_type": "markdown",
      "source": [
        "# Altere a quantidade de camadas escondidas para 3 com 5 neurônios.\n"
      ],
      "metadata": {
        "id": "VqPXKlX2krJc"
      }
    },
    {
      "cell_type": "code",
      "source": [
        "redes_neurais(irisdata, camadas_escondidas = (5,5,5), max_iteracoes=1000)"
      ],
      "metadata": {
        "colab": {
          "base_uri": "https://localhost:8080/"
        },
        "id": "3WZQtvSykh0V",
        "outputId": "808098ef-0c77-4098-81bc-7f942eef7e22"
      },
      "execution_count": 12,
      "outputs": [
        {
          "output_type": "stream",
          "name": "stdout",
          "text": [
            "Acurácia:  0.6\n"
          ]
        }
      ]
    },
    {
      "cell_type": "markdown",
      "source": [
        "# Altere a quantidade de camadas escondidas para 1 com 10 neurônios.\n"
      ],
      "metadata": {
        "id": "iJJEj59pkvIK"
      }
    },
    {
      "cell_type": "code",
      "source": [
        "redes_neurais(irisdata, camadas_escondidas = (10), max_iteracoes=1000)"
      ],
      "metadata": {
        "colab": {
          "base_uri": "https://localhost:8080/"
        },
        "id": "w_WPVWU7kxoF",
        "outputId": "230696b2-2b48-4b91-8e85-e2b3568ef440"
      },
      "execution_count": 13,
      "outputs": [
        {
          "output_type": "stream",
          "name": "stdout",
          "text": [
            "Acurácia:  0.7555555555555555\n"
          ]
        }
      ]
    },
    {
      "cell_type": "markdown",
      "source": [
        "# Altere a quantidade de camadas escondidas para 3 com 10 neurônios.\n"
      ],
      "metadata": {
        "id": "mcm0EKOrkyN2"
      }
    },
    {
      "cell_type": "code",
      "source": [
        "redes_neurais(irisdata, camadas_escondidas = (10,10,10), max_iteracoes=1000)"
      ],
      "metadata": {
        "colab": {
          "base_uri": "https://localhost:8080/"
        },
        "id": "US899T6ak041",
        "outputId": "2f72b6aa-acf6-4466-d61b-fb777eeef6c3"
      },
      "execution_count": 14,
      "outputs": [
        {
          "output_type": "stream",
          "name": "stdout",
          "text": [
            "Acurácia:  0.9777777777777777\n"
          ]
        }
      ]
    },
    {
      "cell_type": "markdown",
      "source": [
        "# Altere a quantidade de camadas escondidas para 5 com 50 neurônios"
      ],
      "metadata": {
        "id": "ssyOp5Jpk3OE"
      }
    },
    {
      "cell_type": "code",
      "source": [
        "redes_neurais(irisdata, camadas_escondidas = (50,50,50,50,50), max_iteracoes=1000)"
      ],
      "metadata": {
        "colab": {
          "base_uri": "https://localhost:8080/"
        },
        "id": "bFnIsgXrk4sV",
        "outputId": "544914ae-2c45-4a8a-95e9-6ef4181f20e2"
      },
      "execution_count": 15,
      "outputs": [
        {
          "output_type": "stream",
          "name": "stdout",
          "text": [
            "Acurácia:  0.9777777777777777\n"
          ]
        }
      ]
    },
    {
      "cell_type": "markdown",
      "source": [
        "# Conclusão\n",
        "\n",
        "O objetivo é um valor de acurácia mais alto possível. Isto é, quanto maior for o valor dessa métrica, melhor é o modelo. Portanto, no exercício acima a melhor acurácia foi obtida quando aumentamos o número de iterações de 100 para 500, onde a acurácia chega a aproximadamente 98%. Nota-se que quando aumentamos a quantidade de iterações (acima de 500) o valor da acurácia não aumenta mais. Por outro lado, aumentando a quantidade de camadas e de neurônios, o maior valor de acurácia é atingido quando usamos 3 camadas escondidas com 10 neurônios. Ao aumentar a quantidade de camadas escondidas para 5 e o número de neurônios para 50, não há alteração da acurácia, pois a técnica já está chegando próximo ao melhor valor possível."
      ],
      "metadata": {
        "id": "nBQ6bByHoXsD"
      }
    },
    {
      "cell_type": "code",
      "source": [],
      "metadata": {
        "id": "Bottidp2lQH-"
      },
      "execution_count": null,
      "outputs": []
    }
  ]
}