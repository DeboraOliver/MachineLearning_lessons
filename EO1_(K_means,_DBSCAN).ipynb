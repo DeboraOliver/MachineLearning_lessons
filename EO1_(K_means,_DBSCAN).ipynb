{
  "nbformat": 4,
  "nbformat_minor": 0,
  "metadata": {
    "colab": {
      "provenance": [],
      "authorship_tag": "ABX9TyNP5ArV/7NLJvel5WjahcFW",
      "include_colab_link": true
    },
    "kernelspec": {
      "name": "python3",
      "display_name": "Python 3"
    },
    "language_info": {
      "name": "python"
    }
  },
  "cells": [
    {
      "cell_type": "markdown",
      "metadata": {
        "id": "view-in-github",
        "colab_type": "text"
      },
      "source": [
        "<a href=\"https://colab.research.google.com/github/DeboraOliver/MachineLearning_lessons/blob/main/EO1_(K_means%2C_DBSCAN).ipynb\" target=\"_parent\"><img src=\"https://colab.research.google.com/assets/colab-badge.svg\" alt=\"Open In Colab\"/></a>"
      ]
    },
    {
      "cell_type": "markdown",
      "source": [
        "# Estudo Orientado 1\n",
        "\n",
        "Neste estudo orientado você vai utilizar o algoritmo K-means para realizar a classificação de dados usando uma base de dados pronta, chamada de Moons. Veja a seguir todos os procedimentos que deve realizar para importar a biblioteca com o banco de dados e quais parâmetros deve usar no algoritmo K-means. \n",
        "\n",
        "1. Abra o seu ambiente de execução Python Jupyter Notebook. \n",
        "\n",
        "2. Importe a biblioteca SKLearn e indique o banco de dados make_moons para ser importado: \n",
        "\n",
        "`from sklearn.datasets import make_moons. `\n",
        "\n",
        "3. Importe os valores do eixo vertical e horizontal contendo os dados da base de dados make_moons, indicando que você deseja 200 dados amostrais com um ruído de 5% (0,05) e defina o Random_state para 0 (para alcançar exatamente o mesmo resultado que a atividade espera): \n",
        "\n",
        "`X, y = make_moons(n_samples=200, noise=0.05, random_state=0)`\n",
        "\n",
        "4. Plote os dados em um gráfico para perceber quais são os dados que importou: \n",
        "\n",
        "`import matplotlib.pyplot as plt`\n",
        "\n",
        "`plt.scatter(X[:,0], X[:,1])`\n",
        "\n",
        "`plt.show()` \n",
        "\n",
        "5. Agora você deve usar seu conhecimento para classificar estes dados usando o algoritmo K-means, usando o número de clusters igual a K=2 e depois use também o K=3 para comparar os resultados. \n",
        "\n",
        "6. Faça as predições e plote o resultado em um gráfico usando duas e três cores diferentes nos pontos, dependendo do valor de K (2 ou 3) usado.\n",
        " \n",
        "7. Compare o resultado da classificação do K-means com o DBSCAN presente no livro-texto.\n",
        "\n"
      ],
      "metadata": {
        "id": "HRWskPt7O5Wi"
      }
    },
    {
      "cell_type": "markdown",
      "source": [
        "# DBSCAN"
      ],
      "metadata": {
        "id": "tzsUpnMzRlxv"
      }
    },
    {
      "cell_type": "code",
      "source": [
        "from sklearn.datasets import make_moons\n",
        "import matplotlib.pyplot as plt\n",
        "\n",
        "\n",
        "X, y = make_moons(n_samples=200, noise=0.05, random_state=0)\n",
        "\n",
        "plt.scatter(X[:,0], X[:,1])\n",
        "\n",
        "plt.show()"
      ],
      "metadata": {
        "colab": {
          "base_uri": "https://localhost:8080/",
          "height": 265
        },
        "id": "WAn2WpLvQhBw",
        "outputId": "a2d917dd-78e6-446c-9799-14d8a41265a9"
      },
      "execution_count": 2,
      "outputs": [
        {
          "output_type": "display_data",
          "data": {
            "text/plain": [
              "<Figure size 432x288 with 1 Axes>"
            ],
            "image/png": "[encoded data removed]"
          },
          "metadata": {
            "needs_background": "light"
          }
        }
      ]
    },
    {
      "cell_type": "markdown",
      "source": [
        "# K-MEANS"
      ],
      "metadata": {
        "id": "v0xj2DgJWyz1"
      }
    },
    {
      "cell_type": "code",
      "source": [
        "#Importando as bibliotecas.\n",
        "\n",
        "from sklearn.cluster import KMeans\n",
        "from sklearn import metrics\n",
        "\n",
        "def kmeans (valor_de_k):\n",
        "\n",
        "  X, y = make_moons(n_samples=200, noise=0.05, random_state=0)\n",
        "\n",
        "  #Define o valor de K. O K é a quantidade de grupos que serão criados.\n",
        "\n",
        "  k=valor_de_k\n",
        "\n",
        "  #Cria e chama o classificador K-means.\n",
        "\n",
        "  kmeans = KMeans(n_clusters=k)\n",
        "\n",
        "  kmeans = kmeans.fit(X)\n",
        "\n",
        "  labels = kmeans.predict(X)\n",
        "\n",
        "  centroids = kmeans.cluster_centers_\n",
        "\n",
        "  print(centroids)\n",
        "\n",
        "  s = metrics.silhouette_score(X, labels, metric='euclidean')\n",
        "  print(f\"Silhouette Coefficient: {s:.2f}\")\n",
        "\n",
        "  if valor_de_k == 3:\n",
        "    colors = [\"blue\",\"black\",\"purple\"]\n",
        "  else:\n",
        "    colors = [\"green\",\"red\"]\n",
        "\n",
        "  plt.scatter(centroids[:, 0], centroids[:, 1], marker=\"*\", s=100, c=colors)\n",
        "\n",
        "  plt.show()\n",
        "\n",
        "k= [2,3]\n",
        "for valor_de_k in k:\n",
        "  print(\"com k = \",valor_de_k)\n",
        "  kmeans(valor_de_k)"
      ],
      "metadata": {
        "colab": {
          "base_uri": "https://localhost:8080/",
          "height": 669
        },
        "id": "B6l20WIPPSY9",
        "outputId": "05246a0c-c12a-4252-a64e-2a60240dfa04"
      },
      "execution_count": 14,
      "outputs": [
        {
          "output_type": "stream",
          "name": "stdout",
          "text": [
            "com k =  2\n",
            "[[-0.2003285   0.58035606]\n",
            " [ 1.20736718 -0.0825517 ]]\n",
            "Silhouette Coefficient: 0.49\n"
          ]
        },
        {
          "output_type": "display_data",
          "data": {
            "text/plain": [
              "<Figure size 432x288 with 1 Axes>"
            ],
            "image/png": "[encoded data removed]"
          },
          "metadata": {
            "needs_background": "light"
          }
        },
        {
          "output_type": "stream",
          "name": "stdout",
          "text": [
            "com k =  3\n",
            "[[ 0.47404209  0.28571495]\n",
            " [ 1.51963541 -0.17268181]\n",
            " [-0.58500963  0.6639724 ]]\n",
            "Silhouette Coefficient: 0.42\n"
          ]
        },
        {
          "output_type": "display_data",
          "data": {
            "text/plain": [
              "<Figure size 432x288 with 1 Axes>"
            ],
            "image/png": "[encoded data removed]"
          },
          "metadata": {
            "needs_background": "light"
          }
        }
      ]
    },
    {
      "cell_type": "markdown",
      "source": [
        "# DIFERENÇAS\n",
        "\n",
        "O algoritmo K-means difere principalmente do DBSCAN na detecção de ruídos. O K-means não considera que pode haver ruído nos dados e isso pode levar a clusterizações erradas ou incompletas. O DBSCAN identifica dados que estão muito distantes dos demais e considera isso como ruído nos dados, ou seja, descarta aqueles dados na classificação para melhorar a precisão da classificação. Ambos os algoritmos não definem valores máximos do número de clusters, porém nos dois é preciso definir a quantidade de clusters que se deseja criar antes de executar o algoritmo."
      ],
      "metadata": {
        "id": "qOBlPaUoTiEu"
      }
    },
    {
      "cell_type": "code",
      "source": [],
      "metadata": {
        "id": "85_QIpCUR_Wx"
      },
      "execution_count": null,
      "outputs": []
    }
  ]
}