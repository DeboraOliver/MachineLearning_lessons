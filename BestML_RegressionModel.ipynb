{
  "nbformat": 4,
  "nbformat_minor": 0,
  "metadata": {
    "colab": {
      "name": "BestML_RegressionModel  ",
      "private_outputs": true,
      "provenance": [],
      "toc_visible": true,
      "authorship_tag": "ABX9TyNQiEJjXaILaScd3Kmd7Tps",
      "include_colab_link": true
    },
    "kernelspec": {
      "name": "python3",
      "display_name": "Python 3"
    },
    "language_info": {
      "name": "python"
    }
  },
  "cells": [
    {
      "cell_type": "markdown",
      "metadata": {
        "id": "view-in-github",
        "colab_type": "text"
      },
      "source": [
        "<a href=\"https://colab.research.google.com/github/DeboraOliver/MachineLearning_lessons/blob/main/BestML_RegressionModel.ipynb\" target=\"_parent\"><img src=\"https://colab.research.google.com/assets/colab-badge.svg\" alt=\"Open In Colab\"/></a>"
      ]
    },
    {
      "cell_type": "code",
      "source": [
        "!pip install -q yfinance"
      ],
      "metadata": {
        "id": "YeIyrcRfyHTH"
      },
      "execution_count": null,
      "outputs": []
    },
    {
      "cell_type": "code",
      "execution_count": null,
      "metadata": {
        "id": "NaTLjlGP_XMs"
      },
      "outputs": [],
      "source": [
        "import matplotlib.pyplot as plt\n",
        "import pandas as pd\n",
        "import numpy as np\n",
        "#if you get an error after executing the code, try adding below. pd.core.common.is_list_like = pd.api.types.is_list_like\n",
        "import pandas_datareader as pdr\n",
        "import datetime\n",
        "import yfinance as yf\n",
        "import requests\n",
        "import json\n",
        "\n",
        "from functools import reduce\n",
        "import plotly.express as px\n",
        "import plotly.graph_objects as go\n",
        "import seaborn as sns"
      ]
    },
    {
      "cell_type": "code",
      "source": [
        "start = datetime.datetime(2010, 1, 1)\n",
        "# end = datetime.datetime(2022, 5, 10)\n",
        "end = datetime.date.today()\n",
        "\n",
        "SP500 = pdr.DataReader(['sp500'], 'fred', start, end)\n",
        "SP500 = pd.DataFrame(SP500).reset_index()\n",
        "SP500"
      ],
      "metadata": {
        "id": "fu_mvVsrxHn-"
      },
      "execution_count": null,
      "outputs": []
    },
    {
      "cell_type": "code",
      "source": [
        "vix = pdr.DataReader('VIXCLS', 'fred',start, end).dropna().squeeze()\n",
        "vix = pd.DataFrame(vix).reset_index()\n",
        "vix"
      ],
      "metadata": {
        "id": "vilko7VSCtWp"
      },
      "execution_count": null,
      "outputs": []
    },
    {
      "cell_type": "code",
      "source": [
        "# acoes = ['PETR3.SA','AMER3.SA','GOLL4.SA', 'CVCB3.SA', 'WEGE3.SA', 'MGLU3.SA', 'TOTS3.SA', 'BOVA11.SA']\n",
        "acoes = ['TOTS3.SA',\"^BVSP\", \"USDBRL=x\",\"CL=F\"]\n",
        "\n",
        "acoes_df = pd.DataFrame()\n",
        "for acao in acoes:\n",
        "  #acoes_df[acao] = data.DataReader(acao, data_source='yahoo', start='2015-01-01')['Close']\n",
        "  acoes_df[acao] = yf.download(acao, start=start)['Close']\n",
        "\n",
        "acao_bovespa = acoes_df.reset_index().rename(columns={'Date': 'DATE','^BVSP':'bovespa','USDBRL=x':'dolar','CL=F':'bpetroleo'})\n",
        "acao_bovespa"
      ],
      "metadata": {
        "id": "LjlZrn5_HC-o"
      },
      "execution_count": null,
      "outputs": []
    },
    {
      "cell_type": "code",
      "source": [
        "\n",
        "df = reduce(lambda x,y: pd.merge(x,y, on='DATE', how='left'), [acao_bovespa, vix, SP500])\n",
        "df= df.rename(columns={'VIXCLS': 'vix'})\n",
        "df=df.dropna(axis=0).reset_index().drop('index',axis=1)\n",
        "# df.isnull().sum()\n",
        "df.tail()"
      ],
      "metadata": {
        "id": "kLSC9pD-1QPQ"
      },
      "execution_count": null,
      "outputs": []
    },
    {
      "cell_type": "code",
      "source": [
        "figura = plt.figure(figsize=(20,10))\n",
        "sns.heatmap(df.corr(), annot=True);"
      ],
      "metadata": {
        "id": "4eKkJuU84Jmt"
      },
      "execution_count": null,
      "outputs": []
    },
    {
      "cell_type": "code",
      "source": [
        "acoes_df_normalizado = df.copy()\n",
        "for i in acoes_df_normalizado.columns[1:]:\n",
        "  acoes_df_normalizado[i] = acoes_df_normalizado[i] / acoes_df_normalizado[i][0]\n",
        "\n",
        "figura = px.line(title = 'Histórico do preço das ações - normalizado')\n",
        "for i in acoes_df_normalizado.columns[1:]:\n",
        "  figura.add_scatter(x = acoes_df_normalizado['DATE'], y = acoes_df_normalizado[i], name = i)\n",
        "figura.show()"
      ],
      "metadata": {
        "id": "h5zC0uONpXG4"
      },
      "execution_count": null,
      "outputs": []
    },
    {
      "cell_type": "code",
      "source": [
        "df.head()"
      ],
      "metadata": {
        "id": "BeO9V3BtqxNK"
      },
      "execution_count": null,
      "outputs": []
    },
    {
      "cell_type": "markdown",
      "source": [
        "# Regressão linear Simples"
      ],
      "metadata": {
        "id": "-yxAMECi-Rf0"
      }
    },
    {
      "cell_type": "code",
      "source": [
        "df.sample()"
      ],
      "metadata": {
        "id": "V5sD0YM5z8ZM"
      },
      "execution_count": null,
      "outputs": []
    },
    {
      "cell_type": "code",
      "source": [
        "#previsor\n",
        "X_previsor = df.iloc[:,5:6].values\n",
        "X_previsor"
      ],
      "metadata": {
        "id": "kKDvFBHL-Vzj"
      },
      "execution_count": null,
      "outputs": []
    },
    {
      "cell_type": "code",
      "source": [
        "#o que eu quero prever: o valor da ação\n",
        "y_objetivo = df.iloc[:,1].values\n",
        "y_objetivo"
      ],
      "metadata": {
        "id": "KCabLRQJAWjE"
      },
      "execution_count": null,
      "outputs": []
    },
    {
      "cell_type": "code",
      "source": [
        "from sklearn.model_selection import train_test_split\n",
        "X_previsor_treinamento, X_previsor_teste, y_objetivo_treinamento, y_objetivo_teste = train_test_split(X_previsor, y_objetivo, test_size = 0.3, random_state = 0)\n",
        "#deixamos 70% para treinamento e 30% para testes\n",
        "#random state = 0 para que sempre seja a msm divisão com os msm registros\n",
        "X_previsor_treinamento.shape, y_objetivo_treinamento.shape"
      ],
      "metadata": {
        "id": "2jXctGorC4_2"
      },
      "execution_count": null,
      "outputs": []
    },
    {
      "cell_type": "code",
      "source": [
        "#teste\n",
        "X_previsor_teste.shape, y_objetivo_teste.shape"
      ],
      "metadata": {
        "id": "B9vQB2zEDct7"
      },
      "execution_count": null,
      "outputs": []
    },
    {
      "cell_type": "code",
      "source": [
        "from sklearn.linear_model import LinearRegression\n",
        "regressor_simples_acao = LinearRegression()\n",
        "regressor_simples_acao.fit(X_previsor_treinamento, y_objetivo_treinamento)"
      ],
      "metadata": {
        "id": "ODvCSdArEX2m"
      },
      "execution_count": null,
      "outputs": []
    },
    {
      "cell_type": "code",
      "source": [
        "# b0 e # b1 a formula é y = b0 +b1*x1 onde b0 é uma constante e b1 um coeficiente\n",
        "regressor_simples_acao.intercept_ ,regressor_simples_acao.coef_"
      ],
      "metadata": {
        "id": "hEe6l3QPGvHi"
      },
      "execution_count": null,
      "outputs": []
    },
    {
      "cell_type": "code",
      "source": [
        "#score que mede o desempenho deste algoritmo, queremos valores próximos de 1\n",
        "regressor_simples_acao.score(X_previsor_treinamento, y_objetivo_treinamento)"
      ],
      "metadata": {
        "id": "utwR5pByHgHT"
      },
      "execution_count": null,
      "outputs": []
    },
    {
      "cell_type": "code",
      "source": [
        "#na base de teste\n",
        "#score que mede o desempenho deste algoritmo, queremos valores próximos de 1\n",
        "regressor_simples_acao.score(X_previsor_teste, y_objetivo_teste)"
      ],
      "metadata": {
        "id": "Gmx2MXXsHyER"
      },
      "execution_count": null,
      "outputs": []
    },
    {
      "cell_type": "code",
      "source": [
        "previsoes = regressor_simples_acao.predict(X_previsor_treinamento)\n",
        "previsoes"
      ],
      "metadata": {
        "id": "VKT3VCP1JMD5"
      },
      "execution_count": null,
      "outputs": []
    },
    {
      "cell_type": "code",
      "source": [
        "grafico1 = px.scatter(x = X_previsor_treinamento.ravel(), y = y_objetivo_treinamento)\n",
        "grafico2 = px.line(x = X_previsor_treinamento.ravel(), y = previsoes)\n",
        "grafico2.data[0].line.color = 'red'\n",
        "grafico3 = go.Figure(data=grafico1.data + grafico2.data)\n",
        "grafico3"
      ],
      "metadata": {
        "id": "s2sPKn7PJMGu"
      },
      "execution_count": null,
      "outputs": []
    },
    {
      "cell_type": "markdown",
      "source": [
        "## MAE = 5.792954031236629\n",
        "\n",
        "mean absolute erros = diferenças absolutas entre as previsões e os valores reais"
      ],
      "metadata": {
        "id": "cb8GtjD7Kwtm"
      }
    },
    {
      "cell_type": "code",
      "source": [
        "# as previsões que ele encontrou\n",
        "previsoes_teste = regressor_simples_acao.predict(X_previsor_teste)\n",
        "print(previsoes_teste[0:5]) #valores previstos\n",
        "print(y_objetivo_teste[0:5]) #valores reais"
      ],
      "metadata": {
        "id": "RR8fX-pPJ7Bn"
      },
      "execution_count": null,
      "outputs": []
    },
    {
      "cell_type": "code",
      "source": [
        "from sklearn.metrics import mean_absolute_error, mean_squared_error\n",
        "mean_absolute_error(y_objetivo_teste, previsoes_teste)"
      ],
      "metadata": {
        "id": "iLTZwbtiJ7tu"
      },
      "execution_count": null,
      "outputs": []
    },
    {
      "cell_type": "markdown",
      "source": [
        "# Regressão linear Multipla\n",
        "\n",
        "![image.png](data:image/png;base64,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)"
      ],
      "metadata": {
        "id": "kkyMB-Ii9lce"
      }
    },
    {
      "cell_type": "code",
      "source": [
        "#o que eu quero prever: o valor da ação\n",
        "y_objetivo = df.iloc[:,1].values\n",
        "#previsor\n",
        "X_previsor = df.iloc[:,2:7].values\n",
        "X_previsor"
      ],
      "metadata": {
        "id": "k4HfAISZ9yL_"
      },
      "execution_count": null,
      "outputs": []
    },
    {
      "cell_type": "code",
      "source": [
        "from sklearn.model_selection import train_test_split\n",
        "X_previsor_treinamento, X_previsor_teste, y_objetivo_treinamento, y_objetivo_teste = train_test_split(X_previsor, y_objetivo, test_size = 0.3, random_state = 0)\n",
        "#deixamos 70% para treinamento e 30% para testes\n",
        "#random state = 0 para que sempre seja a msm divisão com os msm registros\n",
        "X_previsor_treinamento.shape, y_objetivo_treinamento.shape"
      ],
      "metadata": {
        "id": "ApLvLYXjNiQo"
      },
      "execution_count": null,
      "outputs": []
    },
    {
      "cell_type": "code",
      "source": [
        "#teste\n",
        "X_previsor_teste.shape, y_objetivo_teste.shape"
      ],
      "metadata": {
        "id": "zYwmChwuNiQp"
      },
      "execution_count": null,
      "outputs": []
    },
    {
      "cell_type": "code",
      "source": [
        "regressor_multiplo_acao = LinearRegression()\n",
        "regressor_multiplo_acao.fit(X_previsor_treinamento, y_objetivo_treinamento)"
      ],
      "metadata": {
        "id": "SQSSsLapNiQq"
      },
      "execution_count": null,
      "outputs": []
    },
    {
      "cell_type": "code",
      "source": [
        "# b0 e # b1 a formula é y = b0 +b1*x1 onde b0 é uma constante e b1 um coeficiente\n",
        "regressor_multiplo_acao.intercept_ ,len(regressor_multiplo_acao.coef_)"
      ],
      "metadata": {
        "id": "KEWhMQHSNiQr"
      },
      "execution_count": null,
      "outputs": []
    },
    {
      "cell_type": "code",
      "source": [
        "#score que mede o desempenho deste algoritmo, queremos valores próximos de 1\n",
        "regressor_multiplo_acao.score(X_previsor_treinamento, y_objetivo_treinamento)"
      ],
      "metadata": {
        "id": "p02SqESyNiQr"
      },
      "execution_count": null,
      "outputs": []
    },
    {
      "cell_type": "code",
      "source": [
        "#na base de teste\n",
        "#score que mede o desempenho deste algoritmo, queremos valores próximos de 1\n",
        "regressor_multiplo_acao.score(X_previsor_teste, y_objetivo_teste)"
      ],
      "metadata": {
        "id": "fG2DuS7dNiQs"
      },
      "execution_count": null,
      "outputs": []
    },
    {
      "cell_type": "code",
      "source": [
        "previsoes = regressor_multiplo_acao.predict(X_previsor_treinamento)\n",
        "previsoes"
      ],
      "metadata": {
        "id": "ApqX0lDqNiQs"
      },
      "execution_count": null,
      "outputs": []
    },
    {
      "cell_type": "markdown",
      "source": [
        "## MAE = 2.0900787508269647\n",
        "\n",
        "mean absolute erros = diferenças absolutas entre as previsões e os valores reais"
      ],
      "metadata": {
        "id": "ehjkP4X_NiQv"
      }
    },
    {
      "cell_type": "code",
      "source": [
        "# as previsões que ele encontrou\n",
        "previsoes_teste = regressor_multiplo_acao.predict(X_previsor_teste)\n",
        "print(previsoes_teste[0:5]) #valores previstos\n",
        "print(y_objetivo_teste[0:5]) #valores reais"
      ],
      "metadata": {
        "id": "muhH7S96NiRC"
      },
      "execution_count": null,
      "outputs": []
    },
    {
      "cell_type": "code",
      "source": [
        "from sklearn.metrics import mean_absolute_error, mean_squared_error\n",
        "mean_absolute_error(y_objetivo_teste, previsoes_teste)"
      ],
      "metadata": {
        "id": "mcUun73eNiRF"
      },
      "execution_count": null,
      "outputs": []
    },
    {
      "cell_type": "markdown",
      "source": [
        "# Regressão Polinomial"
      ],
      "metadata": {
        "id": "tvtk0gm0PThz"
      }
    },
    {
      "cell_type": "code",
      "source": [
        "from sklearn.preprocessing import PolynomialFeatures\n",
        "poly = PolynomialFeatures(degree = 2)\n",
        "X_previsor_treinamento_poly = poly.fit_transform(X_previsor_treinamento)\n",
        "X_previsor_teste_poly = poly.transform(X_previsor_teste)\n",
        "\n",
        "X_previsor_treinamento_poly.shape, X_previsor_teste_poly.shape"
      ],
      "metadata": {
        "id": "5DvxICrAPLl_"
      },
      "execution_count": null,
      "outputs": []
    },
    {
      "cell_type": "code",
      "source": [
        "regressor_acoes_poly = LinearRegression()\n",
        "regressor_acoes_poly.fit(X_previsor_treinamento_poly, y_objetivo_treinamento)\n",
        "print(\"Score de treinamento \", regressor_acoes_poly.score(X_previsor_treinamento_poly, y_objetivo_treinamento))\n",
        "print(\"Score de teste \", regressor_acoes_poly.score(X_previsor_teste_poly, y_objetivo_teste))"
      ],
      "metadata": {
        "id": "n-c93h2bOwzD"
      },
      "execution_count": null,
      "outputs": []
    },
    {
      "cell_type": "code",
      "source": [
        "previsoes = regressor_acoes_poly.predict(X_previsor_teste_poly)\n",
        "previsoes[0:5]"
      ],
      "metadata": {
        "id": "4Y9_McofQa2S"
      },
      "execution_count": null,
      "outputs": []
    },
    {
      "cell_type": "code",
      "source": [
        "y_objetivo_teste[0:5]"
      ],
      "metadata": {
        "id": "6EWmdBG6QuNT"
      },
      "execution_count": null,
      "outputs": []
    },
    {
      "cell_type": "markdown",
      "source": [
        "## MAE = 0.8701108586976378"
      ],
      "metadata": {
        "id": "po-COo3RQ7l_"
      }
    },
    {
      "cell_type": "code",
      "source": [
        "mean_absolute_error(y_objetivo_teste, previsoes)"
      ],
      "metadata": {
        "id": "IkFkB3fUQ2ko"
      },
      "execution_count": null,
      "outputs": []
    },
    {
      "cell_type": "markdown",
      "source": [
        "# Árvore de Decisão"
      ],
      "metadata": {
        "id": "N-guqHxERLbk"
      }
    },
    {
      "cell_type": "code",
      "source": [
        "from sklearn.tree import DecisionTreeRegressor\n",
        "regressor_arvore_acoes = DecisionTreeRegressor()\n",
        "regressor_arvore_acoes.fit(X_previsor_treinamento, y_objetivo_treinamento)\n",
        "\n",
        "print(\"Score de treinamento \", regressor_arvore_acoes.score(X_previsor_treinamento, y_objetivo_treinamento))\n",
        "print(\"Score de teste \", regressor_arvore_acoes.score(X_previsor_teste, y_objetivo_teste))"
      ],
      "metadata": {
        "id": "SpW4Wg6XRTb5"
      },
      "execution_count": null,
      "outputs": []
    },
    {
      "cell_type": "code",
      "source": [
        "previsoes = regressor_arvore_acoes.predict(X_previsor_teste)\n",
        "previsoes[0:10]"
      ],
      "metadata": {
        "id": "iUmHbHnuSCnp"
      },
      "execution_count": null,
      "outputs": []
    },
    {
      "cell_type": "code",
      "source": [
        "y_objetivo_teste[0:5]"
      ],
      "metadata": {
        "id": "QuCBysI3SkuR"
      },
      "execution_count": null,
      "outputs": []
    },
    {
      "cell_type": "markdown",
      "source": [
        "## MAE = 0.3616696256800448"
      ],
      "metadata": {
        "id": "fjPIQKqLTLH-"
      }
    },
    {
      "cell_type": "code",
      "source": [
        "from sklearn.metrics import mean_absolute_error\n",
        "mean_absolute_error(y_objetivo_teste, previsoes)"
      ],
      "metadata": {
        "id": "sPoYWqZoSsYV"
      },
      "execution_count": null,
      "outputs": []
    },
    {
      "cell_type": "markdown",
      "source": [
        "# Random Forest"
      ],
      "metadata": {
        "id": "VAx0HITeTVA3"
      }
    },
    {
      "cell_type": "code",
      "source": [
        "from sklearn.ensemble import RandomForestRegressor\n",
        "# regressor_random_forest_saude = RandomForestRegressor(n_estimators = 10)\n",
        "regressor_random_forest_acoes = RandomForestRegressor(n_estimators=500)\n",
        "regressor_random_forest_acoes.fit(X_previsor_treinamento, y_objetivo_treinamento)\n",
        "\n",
        "print(\"Score de treinamento \", regressor_random_forest_acoes.score(X_previsor_treinamento, y_objetivo_treinamento))\n",
        "print(\"Score de teste \", regressor_random_forest_acoes.score(X_previsor_teste, y_objetivo_teste))"
      ],
      "metadata": {
        "id": "ApNe2ONKTJpv"
      },
      "execution_count": null,
      "outputs": []
    },
    {
      "cell_type": "code",
      "source": [
        "previsoes = regressor_random_forest_acoes.predict(X_previsor_teste)\n",
        "previsoes[0:5]"
      ],
      "metadata": {
        "id": "NbJH3FDjUG25"
      },
      "execution_count": null,
      "outputs": []
    },
    {
      "cell_type": "code",
      "source": [
        "y_objetivo_teste[0:5]"
      ],
      "metadata": {
        "id": "h20Kl15lUmBA"
      },
      "execution_count": null,
      "outputs": []
    },
    {
      "cell_type": "code",
      "source": [
        "plt.plot(y_objetivo_teste, label='Expected')\n",
        "plt.plot(previsoes, label='Predicted')\n",
        "plt.legend()\n",
        "plt.show()"
      ],
      "metadata": {
        "id": "k7gKm2jsFYWx"
      },
      "execution_count": null,
      "outputs": []
    },
    {
      "cell_type": "markdown",
      "source": [
        "## MAE = 0.311468220050894"
      ],
      "metadata": {
        "id": "0muKYkLOU45x"
      }
    },
    {
      "cell_type": "code",
      "source": [
        "from sklearn.metrics import mean_absolute_error\n",
        "mean_absolute_error(y_objetivo_teste, previsoes)"
      ],
      "metadata": {
        "id": "qewitzqjUpKG"
      },
      "execution_count": null,
      "outputs": []
    },
    {
      "cell_type": "markdown",
      "source": [
        "# Feature Importance"
      ],
      "metadata": {
        "id": "7UKKpPFWeFhf"
      }
    },
    {
      "cell_type": "code",
      "source": [
        "# Calculate feature importance and store in pandas series\n",
        "feature_imp = pd.Series(regressor_random_forest_acoes.feature_importances_, index=df.iloc[:,2:7].columns).sort_values(ascending=False)\n",
        "feature_imp"
      ],
      "metadata": {
        "id": "o8K17e4iZgks"
      },
      "execution_count": null,
      "outputs": []
    },
    {
      "cell_type": "markdown",
      "source": [
        "# Redes Neurais"
      ],
      "metadata": {
        "id": "4mV5Tdr7hC_Z"
      }
    },
    {
      "cell_type": "code",
      "source": [
        "from sklearn.preprocessing import StandardScaler\n",
        "scaler_x = StandardScaler()\n",
        "X_previsor_scaled = scaler_x.fit_transform(X_previsor)\n",
        "scaler_y = StandardScaler()\n",
        "y_objetivo_scaled = scaler_y.fit_transform(y_objetivo.reshape(-1,1))"
      ],
      "metadata": {
        "id": "_ZL7_KBPaddu"
      },
      "execution_count": null,
      "outputs": []
    },
    {
      "cell_type": "code",
      "source": [
        "from sklearn.neural_network import MLPRegressor\n",
        "regressor_rna_saude = MLPRegressor(max_iter=1000)\n",
        "regressor_rna_saude.fit(X_previsor_scaled, y_objetivo_scaled.ravel())"
      ],
      "metadata": {
        "id": "SX7ee294h1Zg"
      },
      "execution_count": null,
      "outputs": []
    },
    {
      "cell_type": "code",
      "source": [
        "print(\"Score\",regressor_rna_saude.score(X_previsor_scaled, y_objetivo_scaled))"
      ],
      "metadata": {
        "id": "dC3x0h2_jwIj"
      },
      "execution_count": null,
      "outputs": []
    },
    {
      "cell_type": "code",
      "source": [
        ""
      ],
      "metadata": {
        "id": "EBb_0c3MkKLR"
      },
      "execution_count": null,
      "outputs": []
    }
  ]
}