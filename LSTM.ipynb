{
  "nbformat": 4,
  "nbformat_minor": 0,
  "metadata": {
    "colab": {
      "private_outputs": true,
      "provenance": [],
      "authorship_tag": "ABX9TyP+oMcWg/Lx5M/2C/PAky+1",
      "include_colab_link": true
    },
    "kernelspec": {
      "name": "python3",
      "display_name": "Python 3"
    },
    "language_info": {
      "name": "python"
    }
  },
  "cells": [
    {
      "cell_type": "markdown",
      "metadata": {
        "id": "view-in-github",
        "colab_type": "text"
      },
      "source": [
        "<a href=\"https://colab.research.google.com/github/DeboraOliver/MachineLearning_lessons/blob/main/LSTM.ipynb\" target=\"_parent\"><img src=\"https://colab.research.google.com/assets/colab-badge.svg\" alt=\"Open In Colab\"/></a>"
      ]
    },
    {
      "cell_type": "markdown",
      "source": [
        "# LSTM - RNN\n",
        "\n",
        "tutorial em : https://www.youtube.com/watch?v=iMIWee_PXl8"
      ],
      "metadata": {
        "id": "fvmuRaawuHRF"
      }
    },
    {
      "cell_type": "code",
      "execution_count": null,
      "metadata": {
        "id": "jO80wnyHjmK1"
      },
      "outputs": [],
      "source": [
        "from keras.models import Sequential\n",
        "from keras.layers import Dense, LSTM\n",
        "from  sklearn.model_selection import train_test_split\n",
        "import numpy as np\n",
        "import matplotlib.pyplot as plt\n"
      ]
    },
    {
      "cell_type": "code",
      "source": [
        "leng=1\n",
        "\n",
        "data = [[[(i+j)/100] for i in range(5)] for j in range(100)]\n",
        "data = np.array(data, dtype=np.float32)\n",
        "\n",
        "target = [(i+5)/100 for i in range(100)] \n",
        "target = np.array(target, dtype=np.float32)\n",
        "\n",
        "# #normalização\n",
        "# data = data.reshape(100, 1, leng)/200\n",
        "# target = target.reshape(100,1,leng)/200\n",
        "\n",
        "# data = data.reshape((1, 1, 100)) \n",
        "# target = target.reshape((1, 1, 100)) \n",
        "# x_test=[i for i in range(100,200)]\n",
        "# x_test=np.array(x_test).reshape((1,1,100));\n",
        "# y_test=[i for i in range(101,201)]\n",
        "# y_test=np.array(y_test).reshape(1,1,100)\n",
        "\n",
        "\n",
        "print(data.shape,target.shape)"
      ],
      "metadata": {
        "id": "haH0CfxQkV8J"
      },
      "execution_count": null,
      "outputs": []
    },
    {
      "cell_type": "code",
      "source": [
        "x_train, x_test,y_train,y_test = train_test_split(data,target,test_size=0.2, random_state = 4)"
      ],
      "metadata": {
        "id": "7H2Tn8bNlRtI"
      },
      "execution_count": null,
      "outputs": []
    },
    {
      "cell_type": "code",
      "source": [
        "model = Sequential()  \n",
        "\n",
        "model.add(LSTM((1), batch_input_shape=(None,5, 1),return_sequences=True))\n",
        "model.add(LSTM((1), return_sequences=False)) #2ª camada\n",
        "# model.add(Dense(100))\n",
        "model.compile(loss='mean_absolute_error', optimizer='adam',metrics=['accuracy'])\n",
        " \n",
        "model.summary()"
      ],
      "metadata": {
        "id": "ooDBsTIOl6PO"
      },
      "execution_count": null,
      "outputs": []
    },
    {
      "cell_type": "code",
      "source": [
        "history = model.fit(x_train, y_train, epochs=500,validation_data=(x_test, y_test))\n"
      ],
      "metadata": {
        "id": "Pgov-6AMnGP-"
      },
      "execution_count": null,
      "outputs": []
    },
    {
      "cell_type": "code",
      "source": [
        "results = model.predict(x_test)\n",
        "results"
      ],
      "metadata": {
        "id": "Nmpgd6JCnpoF"
      },
      "execution_count": null,
      "outputs": []
    },
    {
      "cell_type": "code",
      "source": [
        "plt.scatter(range(20),results, c='r')\n",
        "plt.scatter(range(20),y_test, c='g')\n",
        "plt.show()"
      ],
      "metadata": {
        "id": "Bb94scy1qwqz"
      },
      "execution_count": null,
      "outputs": []
    },
    {
      "cell_type": "code",
      "source": [
        "plt.plot(history.history['loss'])\n",
        "plt.show()\n",
        "# se está caindo,decrescendo --> aumente as epochs"
      ],
      "metadata": {
        "id": "jItlOCyPrHZU"
      },
      "execution_count": null,
      "outputs": []
    },
    {
      "cell_type": "code",
      "source": [],
      "metadata": {
        "id": "wqy_26qgrdZa"
      },
      "execution_count": null,
      "outputs": []
    }
  ]
}