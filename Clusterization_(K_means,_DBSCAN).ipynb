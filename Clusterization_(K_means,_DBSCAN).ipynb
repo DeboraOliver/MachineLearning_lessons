{
  "nbformat": 4,
  "nbformat_minor": 0,
  "metadata": {
    "colab": {
      "provenance": [],
      "authorship_tag": "ABX9TyPX1//vhC5vghbJ9kpsPNT/",
      "include_colab_link": true
    },
    "kernelspec": {
      "name": "python3",
      "display_name": "Python 3"
    },
    "language_info": {
      "name": "python"
    }
  },
  "cells": [
    {
      "cell_type": "markdown",
      "metadata": {
        "id": "view-in-github",
        "colab_type": "text"
      },
      "source": [
        "<a href=\"https://colab.research.google.com/github/DeboraOliver/MachineLearning_lessons/blob/main/Clusterization_(K_means%2C_DBSCAN).ipynb\" target=\"_parent\"><img src=\"https://colab.research.google.com/assets/colab-badge.svg\" alt=\"Open In Colab\"/></a>"
      ]
    },
    {
      "cell_type": "code",
      "execution_count": null,
      "metadata": {
        "id": "ziJw9BjZOfyd"
      },
      "outputs": [],
      "source": []
    },
    {
      "cell_type": "markdown",
      "source": [
        "# K-means \n",
        "\n",
        "O algoritmo K-means é usado para classificação quando não há rótulos nos dados. O objetivo desse tipo de algoritmo é procurar por similaridades e criar grupos a partir dos dados\n",
        "\n",
        "Quanto maior k, maior a complexidade e piora a performance.\n",
        "\n"
      ],
      "metadata": {
        "id": "HRWskPt7O5Wi"
      }
    },
    {
      "cell_type": "code",
      "source": [
        "#Importando as bibliotecas.\n",
        "\n",
        "import numpy as np\n",
        "\n",
        "import pandas as pd\n",
        "\n",
        "import matplotlib.pyplot as plt\n",
        "\n",
        "from sklearn.cluster import KMeans\n",
        "\n",
        "#Lendo o arquivo criado com os dados dos pacientes: peso vs. altura.\n",
        "\n",
        "peso = [30, 35, 40,45,50,55,60,75,80,85,90,100,110,87,71,150,111,58,89]\n",
        "altura = [150,140,155,155,162,165,190,185,175,172,170,179,175,182,185,191,170,162,174]\n",
        "\n",
        "df = pd.DataFrame({'peso':peso, 'altura': altura })\n",
        "\n",
        "#Cria uma matriz contendo todos os dados do arquivo CSV\n",
        "\n",
        "X = np.array(list(zip(df[\"peso\"],df[\"altura\"])))\n",
        "\n",
        "#Define o valor de K. O K é a quantidade de grupos que serão criados.\n",
        "\n",
        "k=3\n",
        "\n",
        "#Cria e chama o classificador K-means.\n",
        "\n",
        "kmeans = KMeans(n_clusters=k)\n",
        "\n",
        "kmeans = kmeans.fit(X)\n",
        "\n",
        "labels = kmeans.predict(X)\n",
        "\n",
        "centroids = kmeans.cluster_centers_\n",
        "\n",
        "#Imprime a classificação de cada dado, 0 para cluster0, 1 para cluster1, etc...\n",
        "\n",
        "print(labels)\n",
        "\n",
        "#Imprime os pontos de cada centroide do tipo valor x:y (eixo horizontal e eixo vertical).\n",
        "\n",
        "print(centroids)\n",
        "\n",
        "#Cria cores para os rótulos (classes).\n",
        "\n",
        "c = [\"b\",\"r\",\"y\",\"g\",\"c\",\"m\"]\n",
        "\n",
        "colors = [c[i] for i in labels]\n",
        "\n",
        "#Cria o gráfico e imprime.\n",
        "\n",
        "plt.scatter(df[\"peso\"],df[\"altura\"], c=colors, s=18)\n",
        "\n",
        "#Adiciona os pontos para os centroides no gráfico.\n",
        "\n",
        "plt.scatter(centroids[:, 0], centroids[:, 1], marker=\"*\", s=100, c=\"black\")"
      ],
      "metadata": {
        "colab": {
          "base_uri": "https://localhost:8080/",
          "height": 352
        },
        "id": "B6l20WIPPSY9",
        "outputId": "a856c6e9-5adc-4676-ed9b-dca7ec52357b"
      },
      "execution_count": 2,
      "outputs": [
        {
          "output_type": "stream",
          "name": "stdout",
          "text": [
            "[0 0 0 0 0 0 2 2 2 2 2 2 1 2 2 1 1 0 2]\n",
            "[[ 44.71428571 155.57142857]\n",
            " [123.66666667 178.66666667]\n",
            " [ 81.88888889 179.11111111]]\n"
          ]
        },
        {
          "output_type": "execute_result",
          "data": {
            "text/plain": [
              "<matplotlib.collections.PathCollection at 0x7ff07e39d690>"
            ]
          },
          "metadata": {},
          "execution_count": 2
        },
        {
          "output_type": "display_data",
          "data": {
            "text/plain": [
              "<Figure size 432x288 with 1 Axes>"
            ],
            "image/png": "[encoded data removed]"
          },
          "metadata": {
            "needs_background": "light"
          }
        }
      ]
    },
    {
      "cell_type": "markdown",
      "source": [
        "# DBSCAN\n",
        "\n",
        "O algoritmo Density-Based Spatial Clustering of Applications with Noise (DBSCAN) é utilizado para a classificação de dados sem rótulos, assim como o K-means.\n",
        "\n",
        "O atributo s define o tamanho do ponto no gráfico, quanto menor, mais pontos é possível visualizar. A seguir, você vai entender melhor o que foi gerado a partir desse código na sequência.\n",
        "\n",
        "Quando a função make_moons é chamada, é preciso definir o número de amostras (dados) que serão geradas para formar a lua. Quanto maior o número de amostras, mais coletas de dados haverá. O atributo noise indica a porcentagem de ruído que terá nos dados, gerando dados fora do desenho da lua para dificultar o trabalho do algoritmo de clusterização. Por fim, o “random_state” define a geração da aleatoriedade. Para ter os dados exatamente como os mostrados nesses exemplos, utilize o “random_state=23”.\n",
        "\n",
        "Complementando, o atributo “eps” é o mais importante na criação do algoritmo DBSCAN. Esse atributo vai definir como será feita a clusterização, ele especifica a distância máxima entre os elementos para serem considerados vizinhos. A variável min_samples define a quantidade de amostras mínimas para serem consideradas na vizinhança para ser considerado como core point."
      ],
      "metadata": {
        "id": "tzsUpnMzRlxv"
      }
    },
    {
      "cell_type": "code",
      "source": [
        "from sklearn.datasets import make_moons\n",
        "\n",
        "X, y = make_moons(n_samples=200, noise=0.05, random_state=23)\n",
        "\n",
        "plt.scatter(X[y==0,0], X[y==0,1],c=\"black\", marker=\"o\", s=40, label=\"cluster 1\")\n",
        "\n",
        "plt.scatter(X[y==1,0], X[y==1,1], c=\"green\", marker=\"o\", s=40, label=\"cluster 2\")\n",
        "\n",
        "plt.show()"
      ],
      "metadata": {
        "colab": {
          "base_uri": "https://localhost:8080/",
          "height": 265
        },
        "id": "WAn2WpLvQhBw",
        "outputId": "f6bd04df-7abb-4486-9e0b-4a1fa9f269e8"
      },
      "execution_count": 4,
      "outputs": [
        {
          "output_type": "display_data",
          "data": {
            "text/plain": [
              "<Figure size 432x288 with 1 Axes>"
            ],
            "image/png": "[encoded data removed]"
          },
          "metadata": {
            "needs_background": "light"
          }
        }
      ]
    },
    {
      "cell_type": "markdown",
      "source": [
        "# DIFERENÇAS\n",
        "\n",
        "O algoritmo K-means difere principalmente do DBSCAN na detecção de ruídos. O K-means não considera que pode haver ruído nos dados e isso pode levar a clusterizações erradas ou incompletas. O DBSCAN identifica dados que estão muito distantes dos demais e considera isso como ruído nos dados, ou seja, descarta aqueles dados na classificação para melhorar a precisão da classificação. Ambos os algoritmos não definem valores máximos do número de clusters, porém nos dois é preciso definir a quantidade de clusters que se deseja criar antes de executar o algoritmo."
      ],
      "metadata": {
        "id": "qOBlPaUoTiEu"
      }
    },
    {
      "cell_type": "code",
      "source": [],
      "metadata": {
        "id": "85_QIpCUR_Wx"
      },
      "execution_count": null,
      "outputs": []
    }
  ]
}